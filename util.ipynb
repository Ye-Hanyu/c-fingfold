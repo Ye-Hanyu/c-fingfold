{
 "cells": [
  {
   "cell_type": "code",
   "execution_count": null,
   "metadata": {},
   "outputs": [],
   "source": [
    "'''\n",
    "Author: YeHanyu\n",
    "Date: 2022-07-22 11:37:08\n",
    "LastEditors: YeHanyu\n",
    "LastEditTime: 2022-07-22 14:30:33\n",
    "FilePath: /c-fingfold/util.ipynb\n",
    "Description: \n",
    "\n",
    "Copyright (c) 2022 by ye 237239045@qq.com, All Rights Reserved. \n",
    "'''\n"
   ]
  },
  {
   "cell_type": "code",
   "execution_count": null,
   "metadata": {},
   "outputs": [],
   "source": [
    "import numpy as np\n",
    "import logging\n",
    "import os\n",
    "import shutil\n",
    "import sys\n",
    "from pathlib import Path\n",
    "from typing import TYPE_CHECKING, Optional"
   ]
  },
  {
   "cell_type": "code",
   "execution_count": null,
   "metadata": {},
   "outputs": [],
   "source": [
    "DEFAULT_FMT = \"%(asctime)s - %(levelname)s - %(message)s\"\n",
    "\n",
    "'''\n",
    "description: \n",
    "param {str} module_name\n",
    "param {str} fmt\n",
    "param {Optional} datefmt\n",
    "param {Optional} logger_handler\n",
    "return {logger}\n",
    "'''\n",
    "def get_logger(\n",
    "    module_name: str = \"monai.apps\",\n",
    "    fmt: str = DEFAULT_FMT,\n",
    "    datefmt: Optional[str] = None,\n",
    "    logger_handler: Optional[logging.Handler] = None,\n",
    "):\n",
    "    logger = logging.getLogger(module_name)\n",
    "    logger.propagate = False\n",
    "    logger.setLevel(logging.INFO)\n",
    "    handler = logging.StreamHandler(sys.stdout)\n",
    "    formatter = logging.Formatter(fmt=fmt, datefmt=datefmt)\n",
    "    handler.setFormatter(formatter)\n",
    "    logger.addHandler(handler)\n",
    "    if logger_handler is not None:\n",
    "        logger.addHandler(logger_handler)\n",
    "    return logger"
   ]
  }
 ],
 "metadata": {
  "kernelspec": {
   "display_name": "Python 3.9.12 ('monai')",
   "language": "python",
   "name": "python3"
  },
  "language_info": {
   "name": "python",
   "version": "3.9.12"
  },
  "orig_nbformat": 4,
  "vscode": {
   "interpreter": {
    "hash": "b75b11b75103afe566442c8e4fbbde8dd674b5d1137cf11884df652d562a6047"
   }
  }
 },
 "nbformat": 4,
 "nbformat_minor": 2
}
